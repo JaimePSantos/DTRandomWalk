{
 "cells": [
  {
   "cell_type": "code",
   "execution_count": null,
   "id": "f747b7d4-6bc4-4f8a-a5b6-daa68cbe7032",
   "metadata": {},
   "outputs": [],
   "source": [
    "import networkx as nx\n",
    "import matplotlib.pyplot as plt\n",
    "\n",
    "def unique_edges_graph(n_nodes):\n",
    "    \"\"\"\n",
    "    Create a graph with `n_nodes` where each node has a unique number of edges.\n",
    "    \n",
    "    Parameters:\n",
    "    - n_nodes: Number of nodes in the graph\n",
    "    \n",
    "    Returns:\n",
    "    - G: A networkx Graph\n",
    "    \"\"\"\n",
    "    if n_nodes <= 1:\n",
    "        raise ValueError(\"The number of nodes should be greater than 1.\")\n",
    "\n",
    "    G = nx.Graph()\n",
    "    total_edges = n_nodes * (n_nodes - 1) // 2  # n(n-1)/2 is the total number of edges for a complete graph of n nodes\n",
    "    \n",
    "    if total_edges < sum(range(n_nodes)):  # The total edges of complete graph should be >= sum of first n integers to ensure uniqueness\n",
    "        raise ValueError(f\"Cannot create a graph with {n_nodes} nodes where each has a unique number of edges.\")\n",
    "\n",
    "    # Start building the graph\n",
    "    current_node = 0\n",
    "    for i in range(1, n_nodes):\n",
    "        for j in range(i):\n",
    "            G.add_edge(current_node, current_node + 1 + j)\n",
    "        current_node += 1\n",
    "\n",
    "    return G\n",
    "\n",
    "# Example usage\n",
    "G = unique_edges_graph(5)\n",
    "nx.draw(G, with_labels=True, node_color='lightblue', node_size=1500, font_size=24)\n",
    "plt.show()\n"
   ]
  },
  {
   "cell_type": "code",
   "execution_count": null,
   "id": "75054c3e-24f2-4cec-a54f-ac8aed22421f",
   "metadata": {},
   "outputs": [],
   "source": []
  }
 ],
 "metadata": {
  "kernelspec": {
   "display_name": "Python 3 (ipykernel)",
   "language": "python",
   "name": "python3"
  },
  "language_info": {
   "codemirror_mode": {
    "name": "ipython",
    "version": 3
   },
   "file_extension": ".py",
   "mimetype": "text/x-python",
   "name": "python",
   "nbconvert_exporter": "python",
   "pygments_lexer": "ipython3",
   "version": "3.10.13"
  }
 },
 "nbformat": 4,
 "nbformat_minor": 5
}
